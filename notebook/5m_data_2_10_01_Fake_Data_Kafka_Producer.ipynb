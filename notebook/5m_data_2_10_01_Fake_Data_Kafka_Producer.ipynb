{
  "cells": [
    {
      "cell_type": "code",
      "execution_count": 1,
      "metadata": {
        "id": "2GseR_igvnWA"
      },
      "outputs": [],
      "source": [
        "import random\n",
        "import time\n",
        "from faker import Faker\n",
        "from faker.providers import BaseProvider\n",
        "\n",
        "# Adding a PizzaProvider with 3 methods:\n",
        "#   * pizza_name to retrieve the name of the basic pizza,\n",
        "#   * pizza_topping for additional toppings\n",
        "#   * pizza_shop to retrieve one of the shops available\n",
        "# https://github.com/Aiven-Labs/python-fake-data-producer-for-apache-kafka/tree/main\n",
        "\n",
        "\n",
        "class PizzaProvider(BaseProvider):\n",
        "    def pizza_name(self):\n",
        "        valid_pizza_names = [\n",
        "            \"Margherita\",\n",
        "            \"Marinara\",\n",
        "            \"Diavola\",\n",
        "            \"Mari & Monti\",\n",
        "            \"Salami\",\n",
        "            \"Peperoni\",\n",
        "        ]\n",
        "        return random.choice(valid_pizza_names)\n",
        "\n",
        "    def pizza_topping(self):\n",
        "        available_pizza_toppings = [\n",
        "            \"🍅 tomato\",\n",
        "            \"🧀 blue cheese\",\n",
        "            \"🥚 egg\",\n",
        "            \"🫑 green peppers\",\n",
        "            \"🌶️ hot pepper\",\n",
        "            \"🥓 bacon\",\n",
        "            \"🫒 olives\",\n",
        "            \"🧄 garlic\",\n",
        "            \"🐟 tuna\",\n",
        "            \"🧅 onion\",\n",
        "            \"🍍 pineapple\",\n",
        "            \"🍓 strawberry\",\n",
        "            \"🍌 banana\",\n",
        "        ]\n",
        "        return random.choice(available_pizza_toppings)\n",
        "\n",
        "    def pizza_shop(self):\n",
        "        pizza_shops = [\n",
        "            \"Marios Pizza\",\n",
        "            \"Luigis Pizza\",\n",
        "            \"Circular Pi Pizzeria\",\n",
        "            \"Ill Make You a Pizza You Can\" \"t Refuse\",\n",
        "            \"Mammamia Pizza\",\n",
        "            \"Its-a me! Mario Pizza!\",\n",
        "        ]\n",
        "        return random.choice(pizza_shops)\n",
        "\n",
        "    def order_cost(self):\n",
        "        return round(random.random() * 50, 2)\n",
        "\n",
        "    # def produce_msg(\n",
        "    #     self,\n",
        "    #     FakerInstance,\n",
        "    #     ordercount=1,\n",
        "    #     max_pizzas_in_order=5,\n",
        "    #     max_toppings_in_pizza=3,\n",
        "    # ):\n",
        "    #     shop = FakerInstance.pizza_shop()\n",
        "    #     # Each Order can have 1-10 pizzas in it\n",
        "    #     pizzas = []\n",
        "    #     for pizza in range(random.randint(1, max_pizzas_in_order)):\n",
        "    #         # Each Pizza can have 0-5 additional toppings on it\n",
        "    #         toppings = []\n",
        "    #         for topping in range(random.randint(0, max_toppings_in_pizza)):\n",
        "    #             toppings.append(FakerInstance.pizza_topping())\n",
        "    #         pizzas.append(\n",
        "    #             {\n",
        "    #                 \"pizzaName\": FakerInstance.pizza_name(),\n",
        "    #                 \"additionalToppings\": toppings,\n",
        "    #             }\n",
        "    #         )\n",
        "    #     # message composition\n",
        "    #     message = {\n",
        "    #         \"id\": ordercount,\n",
        "    #         \"shop\": shop,\n",
        "    #         \"name\": FakerInstance.unique.name(),\n",
        "    #         \"phoneNumber\": FakerInstance.unique.phone_number(),\n",
        "    #         \"address\": FakerInstance.address(),\n",
        "    #         \"pizzas\": pizzas,\n",
        "    #         \"timestamp\": int(time.time() * 1000),\n",
        "    #     }\n",
        "    #     key = {\"shop\": shop}\n",
        "    #     return message, key"
      ]
    },
    {
      "cell_type": "code",
      "execution_count": 2,
      "metadata": {
        "id": "ZmXPvtjQwcFy"
      },
      "outputs": [],
      "source": [
        "fake = Faker()\n",
        "fake.add_provider(PizzaProvider)\n",
        "Faker.seed(1234)"
      ]
    },
    {
      "cell_type": "code",
      "execution_count": 7,
      "metadata": {
        "id": "ONm3pPErwLPY"
      },
      "outputs": [],
      "source": [
        "# creating function to generate the pizza Order\n",
        "def produce_pizza_order (orderid = 1):\n",
        "    shop = fake.pizza_shop()\n",
        "    # Each Order can have 1-5 pizzas in it\n",
        "    pizzas = []\n",
        "    for pizza in range(random.randint(1, 5)):\n",
        "        # Each Pizza can have 0-3 additional toppings on it\n",
        "        toppings = []\n",
        "        for topping in range(random.randint(0, 3)):\n",
        "            toppings.append(fake.pizza_topping())\n",
        "        pizzas.append({\n",
        "            'pizzaName': fake.pizza_name(),\n",
        "            'additionalToppings': toppings\n",
        "        })\n",
        "    # message composition\n",
        "    message = {\n",
        "        'id': orderid,\n",
        "        'shop': shop,\n",
        "        'name': fake.unique.name(),\n",
        "        'phoneNumber': fake.unique.phone_number(),\n",
        "        'address': fake.address(),\n",
        "        'pizzas': pizzas,\n",
        "        'cost': fake.order_cost(),\n",
        "        \"timestamp\": int(time.time() * 1000),\n",
        "    }\n",
        "    key = {\"shop\": shop}\n",
        "    return message, key"
      ]
    },
    {
      "cell_type": "code",
      "execution_count": 4,
      "metadata": {
        "colab": {
          "base_uri": "https://localhost:8080/",
          "height": 462
        },
        "id": "3UqtymaSws1V",
        "outputId": "3c70c2eb-db0c-4bbe-9394-a48544f7d4f3"
      },
      "outputs": [],
      "source": [
        "import json\n",
        "from kafka import KafkaProducer\n",
        "\n",
        "producer = KafkaProducer(\n",
        "  bootstrap_servers=['localhost:9092'],\n",
        "  value_serializer=lambda v: json.dumps(v).encode('ascii'),\n",
        "  key_serializer=lambda v: json.dumps(v).encode('ascii')\n",
        ")"
      ]
    },
    {
      "cell_type": "code",
      "execution_count": 10,
      "metadata": {
        "id": "iCf4uqNLnLDD"
      },
      "outputs": [
        {
          "ename": "AssertionError",
          "evalue": "KafkaProducer already closed!",
          "output_type": "error",
          "traceback": [
            "\u001b[0;31m---------------------------------------------------------------------------\u001b[0m",
            "\u001b[0;31mAssertionError\u001b[0m                            Traceback (most recent call last)",
            "Cell \u001b[0;32mIn[10], line 9\u001b[0m\n\u001b[1;32m      5\u001b[0m message, key \u001b[38;5;241m=\u001b[39m produce_pizza_order(i)\n\u001b[1;32m      7\u001b[0m \u001b[38;5;66;03m# print(\"Sending: {}\".format(message))\u001b[39;00m\n\u001b[1;32m      8\u001b[0m \u001b[38;5;66;03m# sending the message to Kafka\u001b[39;00m\n\u001b[0;32m----> 9\u001b[0m \u001b[43mproducer\u001b[49m\u001b[38;5;241;43m.\u001b[39;49m\u001b[43msend\u001b[49m\u001b[43m(\u001b[49m\u001b[43mtopic_name\u001b[49m\u001b[43m,\u001b[49m\n\u001b[1;32m     10\u001b[0m \u001b[43m              \u001b[49m\u001b[43mkey\u001b[49m\u001b[38;5;241;43m=\u001b[39;49m\u001b[43mkey\u001b[49m\u001b[43m,\u001b[49m\n\u001b[1;32m     11\u001b[0m \u001b[43m              \u001b[49m\u001b[43mvalue\u001b[49m\u001b[38;5;241;43m=\u001b[39;49m\u001b[43mmessage\u001b[49m\u001b[43m)\u001b[49m\n\u001b[1;32m     12\u001b[0m \u001b[38;5;66;03m# 1-2 seconds of sleep time before the next message\u001b[39;00m\n\u001b[1;32m     13\u001b[0m time\u001b[38;5;241m.\u001b[39msleep(random\u001b[38;5;241m.\u001b[39mrandint(\u001b[38;5;241m1\u001b[39m,\u001b[38;5;241m2\u001b[39m))\n",
            "File \u001b[0;32m~/Applications/anaconda3/envs/kafka/lib/python3.10/site-packages/kafka/producer/kafka.py:830\u001b[0m, in \u001b[0;36mKafkaProducer.send\u001b[0;34m(self, topic, value, key, headers, partition, timestamp_ms)\u001b[0m\n\u001b[1;32m    794\u001b[0m \u001b[38;5;28;01mdef\u001b[39;00m\u001b[38;5;250m \u001b[39m\u001b[38;5;21msend\u001b[39m(\u001b[38;5;28mself\u001b[39m, topic, value\u001b[38;5;241m=\u001b[39m\u001b[38;5;28;01mNone\u001b[39;00m, key\u001b[38;5;241m=\u001b[39m\u001b[38;5;28;01mNone\u001b[39;00m, headers\u001b[38;5;241m=\u001b[39m\u001b[38;5;28;01mNone\u001b[39;00m, partition\u001b[38;5;241m=\u001b[39m\u001b[38;5;28;01mNone\u001b[39;00m, timestamp_ms\u001b[38;5;241m=\u001b[39m\u001b[38;5;28;01mNone\u001b[39;00m):\n\u001b[1;32m    795\u001b[0m \u001b[38;5;250m    \u001b[39m\u001b[38;5;124;03m\"\"\"Publish a message to a topic.\u001b[39;00m\n\u001b[1;32m    796\u001b[0m \n\u001b[1;32m    797\u001b[0m \u001b[38;5;124;03m    Arguments:\u001b[39;00m\n\u001b[0;32m   (...)\u001b[0m\n\u001b[1;32m    828\u001b[0m \u001b[38;5;124;03m        AssertionError: if KafkaProducer is closed, or key and value are both None\u001b[39;00m\n\u001b[1;32m    829\u001b[0m \u001b[38;5;124;03m    \"\"\"\u001b[39;00m\n\u001b[0;32m--> 830\u001b[0m     \u001b[38;5;28;01massert\u001b[39;00m \u001b[38;5;129;01mnot\u001b[39;00m \u001b[38;5;28mself\u001b[39m\u001b[38;5;241m.\u001b[39m_closed, \u001b[38;5;124m'\u001b[39m\u001b[38;5;124mKafkaProducer already closed!\u001b[39m\u001b[38;5;124m'\u001b[39m\n\u001b[1;32m    831\u001b[0m     \u001b[38;5;28;01massert\u001b[39;00m value \u001b[38;5;129;01mis\u001b[39;00m \u001b[38;5;129;01mnot\u001b[39;00m \u001b[38;5;28;01mNone\u001b[39;00m \u001b[38;5;129;01mor\u001b[39;00m \u001b[38;5;28mself\u001b[39m\u001b[38;5;241m.\u001b[39mconfig[\u001b[38;5;124m'\u001b[39m\u001b[38;5;124mapi_version\u001b[39m\u001b[38;5;124m'\u001b[39m] \u001b[38;5;241m>\u001b[39m\u001b[38;5;241m=\u001b[39m (\u001b[38;5;241m0\u001b[39m, \u001b[38;5;241m8\u001b[39m, \u001b[38;5;241m1\u001b[39m), (\n\u001b[1;32m    832\u001b[0m         \u001b[38;5;124m'\u001b[39m\u001b[38;5;124mNull messages require kafka >= 0.8.1\u001b[39m\u001b[38;5;124m'\u001b[39m)\n\u001b[1;32m    833\u001b[0m     \u001b[38;5;28;01massert\u001b[39;00m \u001b[38;5;129;01mnot\u001b[39;00m (value \u001b[38;5;129;01mis\u001b[39;00m \u001b[38;5;28;01mNone\u001b[39;00m \u001b[38;5;129;01mand\u001b[39;00m key \u001b[38;5;129;01mis\u001b[39;00m \u001b[38;5;28;01mNone\u001b[39;00m), \u001b[38;5;124m'\u001b[39m\u001b[38;5;124mNeed at least one: key or value\u001b[39m\u001b[38;5;124m'\u001b[39m\n",
            "\u001b[0;31mAssertionError\u001b[0m: KafkaProducer already closed!"
          ]
        }
      ],
      "source": [
        "topic_name = 'pizza-orders'\n",
        "i = 0\n",
        "\n",
        "while i <  5:\n",
        "    message, key = produce_pizza_order(i)\n",
        "\n",
        "    # print(\"Sending: {}\".format(message))\n",
        "    # sending the message to Kafka\n",
        "    producer.send(topic_name,\n",
        "                  key=key,\n",
        "                  value=message)\n",
        "    # 1-2 seconds of sleep time before the next message\n",
        "    time.sleep(random.randint(1,2))\n",
        "\n",
        "    # Force sending of all messages\n",
        "    if (i % 100) == 0:\n",
        "        producer.flush()\n",
        "    i = i+1\n",
        "\n",
        "producer.flush()"
      ]
    },
    {
      "cell_type": "code",
      "execution_count": 9,
      "metadata": {
        "id": "fDzIIrbjxiKq"
      },
      "outputs": [],
      "source": [
        "# Warning: Do not close the producer until you have finished all 3 notebooks!\n",
        "producer.close()"
      ]
    }
  ],
  "metadata": {
    "colab": {
      "provenance": []
    },
    "kernelspec": {
      "display_name": "kafka",
      "language": "python",
      "name": "python3"
    },
    "language_info": {
      "codemirror_mode": {
        "name": "ipython",
        "version": 3
      },
      "file_extension": ".py",
      "mimetype": "text/x-python",
      "name": "python",
      "nbconvert_exporter": "python",
      "pygments_lexer": "ipython3",
      "version": "3.10.13"
    }
  },
  "nbformat": 4,
  "nbformat_minor": 0
}
