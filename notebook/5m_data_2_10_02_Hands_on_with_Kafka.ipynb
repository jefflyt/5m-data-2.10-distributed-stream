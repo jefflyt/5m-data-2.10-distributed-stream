{
  "cells": [
    {
      "cell_type": "markdown",
      "metadata": {
        "id": "AmaepfXWrmhS"
      },
      "source": [
        "# Hands-on with Kafka\n",
        "\n",
        "![kafka](https://images.contentful.com/gt6dp23g0g38/53UO4964r0e7kRVm0mcUUZ/f6f6d7b1b90e8e88a5be0d1845bdf950/what_is_kafka_and_how_does_it_work.png)"
      ]
    },
    {
      "cell_type": "markdown",
      "metadata": {
        "id": "iqStb2uJsJtT"
      },
      "source": [
        "## Installing Kafka Python Client\n",
        "\n",
        "First, we'll need to install Kafka Python client `kafka-python` to consume messages from a Kafka cluster."
      ]
    },
    {
      "cell_type": "code",
      "execution_count": 1,
      "metadata": {
        "id": "ysZG-SJvCPYu"
      },
      "outputs": [],
      "source": [
        "import json\n",
        "from kafka import KafkaConsumer, TopicPartition"
      ]
    },
    {
      "cell_type": "markdown",
      "metadata": {
        "id": "PX1XqpfTFmdQ"
      },
      "source": [
        "First, we'll instantiate the consumer.\n",
        "\n",
        "Our data was serialized in JSON during publishing, hence we'll need to deserialize as JSON when consuming. In actual production, it is recommended to use the binary format that we've learnt, such as Avro."
      ]
    },
    {
      "cell_type": "code",
      "execution_count": 2,
      "metadata": {
        "colab": {
          "base_uri": "https://localhost:8080/",
          "height": 426
        },
        "id": "LK1ul8ttlTmB",
        "outputId": "bae3da22-c7b0-4081-b952-481e30cca94f"
      },
      "outputs": [],
      "source": [
        "consumer = KafkaConsumer(\n",
        "  bootstrap_servers=['localhost:9092'],\n",
        "  auto_offset_reset='earliest',\n",
        "  value_deserializer = lambda v: json.loads(v.decode('ascii')),\n",
        "  key_deserializer = lambda v: json.loads(v.decode('ascii')),\n",
        ")"
      ]
    },
    {
      "cell_type": "markdown",
      "metadata": {
        "id": "SZio6JesCq4L"
      },
      "source": [
        "We set the offset for the consumer to be `earliest` to get the earliest order (message).\n",
        "\n",
        "List the available topics:"
      ]
    },
    {
      "cell_type": "code",
      "execution_count": 3,
      "metadata": {
        "colab": {
          "base_uri": "https://localhost:8080/"
        },
        "id": "mH0-H-4JCiyA",
        "outputId": "205db65d-3b90-4014-edba-e0aa9b276def"
      },
      "outputs": [
        {
          "data": {
            "text/plain": [
              "{'pizza-orders'}"
            ]
          },
          "execution_count": 3,
          "metadata": {},
          "output_type": "execute_result"
        }
      ],
      "source": [
        "consumer.topics()"
      ]
    },
    {
      "cell_type": "markdown",
      "metadata": {
        "id": "Eor4U3v8BZhM"
      },
      "source": [
        "Let's assume we are the owners of a pizza delivery chain, and we'd like to push the orders to Apache Kafka as they come in.\n",
        "\n",
        "We have a topic consisting of pizza orders, which contains the Order ID, Order Details (pizzas and toppings), client's Name, Address, Phone Number, the Shop Name, Total Cost and Timestamp.\n",
        "\n",
        "There is only one partition for the topic. First, let's subscribe to the topic:"
      ]
    },
    {
      "cell_type": "code",
      "execution_count": 4,
      "metadata": {
        "id": "b4JPxoO6BmYb"
      },
      "outputs": [],
      "source": [
        "topic_name = \"pizza-orders\""
      ]
    },
    {
      "cell_type": "code",
      "execution_count": 5,
      "metadata": {
        "colab": {
          "base_uri": "https://localhost:8080/"
        },
        "id": "XOuBHK9SBY2B",
        "outputId": "ac78f0c5-6eff-4a71-9801-174da90402ce"
      },
      "outputs": [
        {
          "data": {
            "text/plain": [
              "{'pizza-orders'}"
            ]
          },
          "execution_count": 5,
          "metadata": {},
          "output_type": "execute_result"
        }
      ],
      "source": [
        "consumer.subscribe(topics=[topic_name])\n",
        "consumer.subscription()"
      ]
    },
    {
      "cell_type": "markdown",
      "metadata": {
        "id": "P8wu1bTaCHnM"
      },
      "source": [
        "We can then start reading the events, let's read and (pretty) print the first 5:"
      ]
    },
    {
      "cell_type": "code",
      "execution_count": 6,
      "metadata": {
        "id": "RT5cfz0uCwGD"
      },
      "outputs": [],
      "source": [
        "from pprint import pprint"
      ]
    },
    {
      "cell_type": "code",
      "execution_count": null,
      "metadata": {
        "colab": {
          "base_uri": "https://localhost:8080/"
        },
        "id": "4m4A07AOyl8P",
        "outputId": "b81593c3-c647-4df6-f70b-310c2d52dcb3"
      },
      "outputs": [
        {
          "name": "stdout",
          "output_type": "stream",
          "text": [
            "0:0: k={'shop': 'Mammamia Pizza'}\n",
            "'-------------------'\n",
            "{'address': '21087 Calvin Plains\\nJonesland, NY 76392',\n",
            " 'cost': 35.36,\n",
            " 'id': 0,\n",
            " 'name': 'Jessica Smith',\n",
            " 'phoneNumber': '001-701-915-3000',\n",
            " 'pizzas': [{'additionalToppings': ['🧀 blue cheese'], 'pizzaName': 'Marinara'},\n",
            "            {'additionalToppings': ['🍅 tomato', '🫒 olives'],\n",
            "             'pizzaName': 'Peperoni'},\n",
            "            {'additionalToppings': ['🥓 bacon', '🫒 olives', '🐟 tuna'],\n",
            "             'pizzaName': 'Diavola'}],\n",
            " 'shop': 'Mammamia Pizza',\n",
            " 'timestamp': 1757090182524}\n",
            "\n",
            "0:1: k={'shop': 'Marios Pizza'}\n",
            "'-------------------'\n",
            "{'address': '19721 Drew Key\\nNew Donaldport, NH 05690',\n",
            " 'cost': 1.03,\n",
            " 'id': 1,\n",
            " 'name': 'Roger Brown',\n",
            " 'phoneNumber': '475-943-3780x8105',\n",
            " 'pizzas': [{'additionalToppings': [], 'pizzaName': 'Margherita'}],\n",
            " 'shop': 'Marios Pizza',\n",
            " 'timestamp': 1757090183549}\n",
            "\n",
            "0:2: k={'shop': 'Its-a me! Mario Pizza!'}\n",
            "'-------------------'\n",
            "{'address': '278 Phillips Crossing Apt. 661\\nPort Maryfurt, GU 86535',\n",
            " 'cost': 29.97,\n",
            " 'id': 2,\n",
            " 'name': 'Matthew Williams',\n",
            " 'phoneNumber': '924-927-0965x759',\n",
            " 'pizzas': [{'additionalToppings': ['🍍 pineapple', '🐟 tuna'],\n",
            "             'pizzaName': 'Marinara'}],\n",
            " 'shop': 'Its-a me! Mario Pizza!',\n",
            " 'timestamp': 1757090185555}\n",
            "\n",
            "0:3: k={'shop': 'Its-a me! Mario Pizza!'}\n",
            "'-------------------'\n",
            "{'address': '547 Brenda Walks\\nLake Ronaldborough, CT 52490',\n",
            " 'cost': 44.74,\n",
            " 'id': 3,\n",
            " 'name': 'Corey Rodriguez',\n",
            " 'phoneNumber': '001-629-242-5711x630',\n",
            " 'pizzas': [{'additionalToppings': ['🍓 strawberry',\n",
            "                                    '🫑 green peppers',\n",
            "                                    '🧀 blue cheese'],\n",
            "             'pizzaName': 'Diavola'},\n",
            "            {'additionalToppings': ['🌶️ hot pepper'], 'pizzaName': 'Peperoni'},\n",
            "            {'additionalToppings': ['🥓 bacon'], 'pizzaName': 'Marinara'},\n",
            "            {'additionalToppings': ['🥓 bacon'], 'pizzaName': 'Marinara'},\n",
            "            {'additionalToppings': ['🫒 olives'], 'pizzaName': 'Margherita'}],\n",
            " 'shop': 'Its-a me! Mario Pizza!',\n",
            " 'timestamp': 1757090186558}\n",
            "\n",
            "0:4: k={'shop': 'Circular Pi Pizzeria'}\n",
            "'-------------------'\n",
            "{'address': '752 Brandon Expressway Apt. 815\\nNorth Elizabeth, AR 84161',\n",
            " 'cost': 47.61,\n",
            " 'id': 4,\n",
            " 'name': 'Stephen Stevens',\n",
            " 'phoneNumber': '253.786.2934',\n",
            " 'pizzas': [{'additionalToppings': ['🥓 bacon', '🌶️ hot pepper'],\n",
            "             'pizzaName': 'Peperoni'},\n",
            "            {'additionalToppings': ['🍅 tomato', '🍌 banana'],\n",
            "             'pizzaName': 'Salami'},\n",
            "            {'additionalToppings': ['🥓 bacon'], 'pizzaName': 'Mari & Monti'}],\n",
            " 'shop': 'Circular Pi Pizzeria',\n",
            " 'timestamp': 1757090188561}\n",
            "\n"
          ]
        }
      ],
      "source": [
        "for ix, message in enumerate(consumer, start=1):\n",
        "    print(\"%d:%d: k=%s\" % (message.partition,\n",
        "                           message.offset,\n",
        "                           message.key))\n",
        "    pprint(\"-------------------\")\n",
        "    pprint(message.value)\n",
        "    print()\n",
        "    if ix == 5:\n",
        "        break"
      ]
    },
    {
      "cell_type": "markdown",
      "metadata": {
        "id": "JBQtiKVR1lgp"
      },
      "source": [
        "Now, continue printing the next 5 events, notice the offset number and order id:"
      ]
    },
    {
      "cell_type": "code",
      "execution_count": 11,
      "metadata": {
        "colab": {
          "base_uri": "https://localhost:8080/"
        },
        "id": "p9ZPa9931hjw",
        "outputId": "4c840159-377d-4fa9-ff16-9ca42542249f"
      },
      "outputs": [
        {
          "name": "stdout",
          "output_type": "stream",
          "text": [
            "0:0: k={'shop': 'Mammamia Pizza'}\n",
            "{'address': '21087 Calvin Plains\\nJonesland, NY 76392',\n",
            " 'cost': 35.36,\n",
            " 'id': 0,\n",
            " 'name': 'Jessica Smith',\n",
            " 'phoneNumber': '001-701-915-3000',\n",
            " 'pizzas': [{'additionalToppings': ['🧀 blue cheese'], 'pizzaName': 'Marinara'},\n",
            "            {'additionalToppings': ['🍅 tomato', '🫒 olives'],\n",
            "             'pizzaName': 'Peperoni'},\n",
            "            {'additionalToppings': ['🥓 bacon', '🫒 olives', '🐟 tuna'],\n",
            "             'pizzaName': 'Diavola'}],\n",
            " 'shop': 'Mammamia Pizza',\n",
            " 'timestamp': 1757090182524}\n",
            "\n",
            "0:1: k={'shop': 'Marios Pizza'}\n",
            "{'address': '19721 Drew Key\\nNew Donaldport, NH 05690',\n",
            " 'cost': 1.03,\n",
            " 'id': 1,\n",
            " 'name': 'Roger Brown',\n",
            " 'phoneNumber': '475-943-3780x8105',\n",
            " 'pizzas': [{'additionalToppings': [], 'pizzaName': 'Margherita'}],\n",
            " 'shop': 'Marios Pizza',\n",
            " 'timestamp': 1757090183549}\n",
            "\n",
            "0:2: k={'shop': 'Its-a me! Mario Pizza!'}\n",
            "{'address': '278 Phillips Crossing Apt. 661\\nPort Maryfurt, GU 86535',\n",
            " 'cost': 29.97,\n",
            " 'id': 2,\n",
            " 'name': 'Matthew Williams',\n",
            " 'phoneNumber': '924-927-0965x759',\n",
            " 'pizzas': [{'additionalToppings': ['🍍 pineapple', '🐟 tuna'],\n",
            "             'pizzaName': 'Marinara'}],\n",
            " 'shop': 'Its-a me! Mario Pizza!',\n",
            " 'timestamp': 1757090185555}\n",
            "\n",
            "0:3: k={'shop': 'Its-a me! Mario Pizza!'}\n",
            "{'address': '547 Brenda Walks\\nLake Ronaldborough, CT 52490',\n",
            " 'cost': 44.74,\n",
            " 'id': 3,\n",
            " 'name': 'Corey Rodriguez',\n",
            " 'phoneNumber': '001-629-242-5711x630',\n",
            " 'pizzas': [{'additionalToppings': ['🍓 strawberry',\n",
            "                                    '🫑 green peppers',\n",
            "                                    '🧀 blue cheese'],\n",
            "             'pizzaName': 'Diavola'},\n",
            "            {'additionalToppings': ['🌶️ hot pepper'], 'pizzaName': 'Peperoni'},\n",
            "            {'additionalToppings': ['🥓 bacon'], 'pizzaName': 'Marinara'},\n",
            "            {'additionalToppings': ['🥓 bacon'], 'pizzaName': 'Marinara'},\n",
            "            {'additionalToppings': ['🫒 olives'], 'pizzaName': 'Margherita'}],\n",
            " 'shop': 'Its-a me! Mario Pizza!',\n",
            " 'timestamp': 1757090186558}\n",
            "\n",
            "0:4: k={'shop': 'Circular Pi Pizzeria'}\n",
            "{'address': '752 Brandon Expressway Apt. 815\\nNorth Elizabeth, AR 84161',\n",
            " 'cost': 47.61,\n",
            " 'id': 4,\n",
            " 'name': 'Stephen Stevens',\n",
            " 'phoneNumber': '253.786.2934',\n",
            " 'pizzas': [{'additionalToppings': ['🥓 bacon', '🌶️ hot pepper'],\n",
            "             'pizzaName': 'Peperoni'},\n",
            "            {'additionalToppings': ['🍅 tomato', '🍌 banana'],\n",
            "             'pizzaName': 'Salami'},\n",
            "            {'additionalToppings': ['🥓 bacon'], 'pizzaName': 'Mari & Monti'}],\n",
            " 'shop': 'Circular Pi Pizzeria',\n",
            " 'timestamp': 1757090188561}\n",
            "\n"
          ]
        }
      ],
      "source": [
        "for ix, message in enumerate(consumer, start=1):\n",
        "    print(\"%d:%d: k=%s\" % (message.partition,\n",
        "                           message.offset,\n",
        "                           message.key))\n",
        "    pprint(message.value)\n",
        "    print()\n",
        "    if ix == 5:\n",
        "        break"
      ]
    },
    {
      "cell_type": "code",
      "execution_count": 10,
      "metadata": {},
      "outputs": [],
      "source": [
        "# go to beginning \n",
        "consumer.seek_to_beginning()"
      ]
    },
    {
      "cell_type": "code",
      "execution_count": 12,
      "metadata": {},
      "outputs": [],
      "source": [
        "# close consumer \n",
        "consumer.close()"
      ]
    },
    {
      "cell_type": "markdown",
      "metadata": {
        "id": "QdzmQrSv3Lwf"
      },
      "source": [
        "This is the full code to publish an example order:\n",
        "\n",
        "```python\n",
        "from kafka import KafkaProducer\n",
        "\n",
        "producer = KafkaProducer(\n",
        "  bootstrap_servers=['brave-fish-11463-us1-kafka.upstash.io:9092'],\n",
        "  sasl_mechanism='SCRAM-SHA-256',\n",
        "  security_protocol='SASL_SSL',\n",
        "  sasl_plain_username='YnJhdmUtZmlzaC0xMTQ2MyQSvwXBuLOQsV1W7YffuC8cDaZcA3fKQwakMhnQGgg',\n",
        "  sasl_plain_password='MDUxNjc4YzEtYzYxNy00NTE1LWEwNWYtMDBhODRlZmE0OGJm',\n",
        "  value_serializer=lambda v: json.dumps(v).encode('ascii'),\n",
        "  key_serializer=lambda v: json.dumps(v).encode('ascii')\n",
        ")\n",
        "\n",
        "message = {'address': '8697 Anthony Valley\\nPort Kellymouth, FL 64221',\n",
        " 'id': 10,\n",
        " 'name': 'Patricia Castaneda',\n",
        " 'phoneNumber': '328-798-9970x51560',\n",
        " 'pizzas': [{'additionalToppings': ['🍅 tomato'], 'pizzaName': 'Mari & Monti'}],\n",
        " 'shop': 'Mammamia Pizza',\n",
        " 'timestamp': 1696609343719}\n",
        "\n",
        "key = {'shop': 'Mammamia Pizza'}\n",
        "\n",
        "producer.send(topic_name, key=key, value=message)\n",
        "```"
      ]
    }
  ],
  "metadata": {
    "colab": {
      "provenance": []
    },
    "kernelspec": {
      "display_name": "kafka",
      "language": "python",
      "name": "python3"
    },
    "language_info": {
      "codemirror_mode": {
        "name": "ipython",
        "version": 3
      },
      "file_extension": ".py",
      "mimetype": "text/x-python",
      "name": "python",
      "nbconvert_exporter": "python",
      "pygments_lexer": "ipython3",
      "version": "3.10.13"
    }
  },
  "nbformat": 4,
  "nbformat_minor": 0
}
